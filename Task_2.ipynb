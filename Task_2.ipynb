{
  "nbformat": 4,
  "nbformat_minor": 0,
  "metadata": {
    "colab": {
      "provenance": []
    },
    "kernelspec": {
      "name": "python3",
      "display_name": "Python 3"
    },
    "language_info": {
      "name": "python"
    }
  },
  "cells": [
    {
      "cell_type": "markdown",
      "source": [
        "Task-2\n",
        "\n",
        "Description:\n",
        "This task involves using the Pandas library to manipulate data.\n",
        "\n",
        "Responsibility:\n",
        "Load a CSV file into a Pandas DataFrame. Perform operations like filtering data based on conditions, handling missing values, and calculating summary statistics.\n",
        "\n",
        "File:\n",
        "Documents/Main Flow Intern/01.Data Cleaning and Preprocessing.csv"
      ],
      "metadata": {
        "id": "XpAIQejzpAVN"
      }
    },
    {
      "cell_type": "markdown",
      "source": [
        "Description :\n",
        "\n",
        "This task involves using the Pandas library in Python to perform data manipulation and cleaning on a CSV file containing various observations and measurements. The primary steps include loading the CSV file into a DataFrame, filtering the data based on specific conditions, handling missing values, and calculating summary statistics. Data cleaning is essential to ensure that the dataset is accurate, consistent, and free of errors or missing values, which can significantly impact the quality and reliability of any analysis performed. By filtering data, we can focus on relevant subsets, while handling missing values (either by removing them or filling them with appropriate values) ensures completeness. Summary statistics provide a quick overview of the dataset, helping to identify trends and outliers. This process prepares the data for further analysis or modeling."
      ],
      "metadata": {
        "id": "_57BpoQwo-tg"
      }
    },
    {
      "cell_type": "markdown",
      "source": [
        "Methods used:\n",
        "\n",
        "pd.read_csv(file_path): Loads a CSV file into a DataFrame.\n",
        "\n",
        "DataFrame.head(): Displays the first few rows of the DataFrame.\n",
        "\n",
        "DataFrame.dropna(): Removes rows with any missing values.\n",
        "\n",
        "DataFrame.fillna(value): Fills missing values with a specified value.\n",
        "\n",
        "DataFrame.describe(): Provides summary statistics for numerical columns.\n",
        "\n",
        "DataFrame.mean(): Calculates the mean of a specific column.\n",
        "\n",
        "Filtering with conditions: Filters rows based on specified conditions.\n",
        "\n",
        "DataFrame.isna() and DataFrame.sum(): Detects and counts missing values in each column."
      ],
      "metadata": {
        "id": "sH-GDQavpLIk"
      }
    },
    {
      "cell_type": "code",
      "source": [
        "import pandas as pd\n"
      ],
      "metadata": {
        "id": "XAYB6pZupNdN"
      },
      "execution_count": 1,
      "outputs": []
    },
    {
      "cell_type": "code",
      "source": [
        "# Load the CSV file into a DataFrame\n",
        "file_path = '/content/01.Data Cleaning and Preprocessing.csv'\n",
        "df = pd.read_csv(file_path)"
      ],
      "metadata": {
        "id": "Cqg7FqzEp-La"
      },
      "execution_count": 2,
      "outputs": []
    },
    {
      "cell_type": "code",
      "source": [
        "# Display the first few rows of the DataFrame\n",
        "print(\"Initial DataFrame:\")\n",
        "print(df.head())\n"
      ],
      "metadata": {
        "colab": {
          "base_uri": "https://localhost:8080/"
        },
        "id": "vnfNSK5iqHvv",
        "outputId": "f0ff21e6-dc9b-455e-8dd9-07b81fd5b4e8"
      },
      "execution_count": 3,
      "outputs": [
        {
          "output_type": "stream",
          "name": "stdout",
          "text": [
            "Initial DataFrame:\n",
            "  Observation  Y-Kappa  ChipRate  BF-CMratio  BlowFlow  ChipLevel4   \\\n",
            "0    31-00:00    23.10    16.520     121.717  1177.607      169.805   \n",
            "1    31-01:00    27.60    16.810      79.022  1328.360      341.327   \n",
            "2    31-02:00    23.19    16.709      79.562  1329.407      239.161   \n",
            "3    31-03:00    23.60    16.478      81.011  1334.877      213.527   \n",
            "4    31-04:00    22.90    15.618      93.244  1334.168      243.131   \n",
            "\n",
            "   T-upperExt-2   T-lowerExt-2    UCZAA  WhiteFlow-4   ...  SteamFlow-4   \\\n",
            "0        358.282         329.545  1.443       599.253  ...        67.122   \n",
            "1        351.050         329.067  1.549       537.201  ...        60.012   \n",
            "2        350.022         329.260  1.600       549.611  ...        61.304   \n",
            "3        350.938         331.142  1.604       623.362  ...        68.496   \n",
            "4        351.640         332.709    NaN       638.672  ...        70.022   \n",
            "\n",
            "   Lower-HeatT-3  Upper-HeatT-3   ChipMass-4   WeakLiquorF   BlackFlow-2   \\\n",
            "0        329.432         303.099      175.964      1127.197      1319.039   \n",
            "1        330.823         304.879      163.202       665.975      1297.317   \n",
            "2        329.140         303.383      164.013       677.534      1327.072   \n",
            "3        328.875         302.254      181.487       767.853      1324.461   \n",
            "4        328.352         300.954      183.929       888.448      1343.424   \n",
            "\n",
            "   WeakWashF   SteamHeatF-3   T-Top-Chips-4   SulphidityL-4   \n",
            "0     257.325         54.612         252.077             NaN  \n",
            "1     241.182         46.603         251.406           29.11  \n",
            "2     237.272         51.795         251.335             NaN  \n",
            "3     239.478         54.846         250.312           29.02  \n",
            "4     215.372         54.186         249.916           29.01  \n",
            "\n",
            "[5 rows x 23 columns]\n"
          ]
        }
      ]
    },
    {
      "cell_type": "code",
      "source": [
        "# Detect and count missing values in each column\n",
        "missing_values = df.isna().sum()\n",
        "print(\"\\nMissing values in each column:\")\n",
        "print(missing_values)"
      ],
      "metadata": {
        "colab": {
          "base_uri": "https://localhost:8080/"
        },
        "id": "n6VWBNncqJxt",
        "outputId": "789dc298-b9f1-4c73-c1e6-5c8b2acad26d"
      },
      "execution_count": 4,
      "outputs": [
        {
          "output_type": "stream",
          "name": "stdout",
          "text": [
            "\n",
            "Missing values in each column:\n",
            "Observation          0\n",
            "Y-Kappa              0\n",
            "ChipRate             5\n",
            "BF-CMratio          17\n",
            "BlowFlow            16\n",
            "ChipLevel4           1\n",
            "T-upperExt-2         2\n",
            "T-lowerExt-2         2\n",
            "UCZAA               25\n",
            "WhiteFlow-4          1\n",
            "AAWhiteSt-4        151\n",
            "AA-Wood-4            1\n",
            "ChipMoisture-4       1\n",
            "SteamFlow-4          1\n",
            "Lower-HeatT-3        2\n",
            "Upper-HeatT-3        2\n",
            "ChipMass-4           1\n",
            "WeakLiquorF          1\n",
            "BlackFlow-2          2\n",
            "WeakWashF            1\n",
            "SteamHeatF-3         2\n",
            "T-Top-Chips-4        1\n",
            "SulphidityL-4      151\n",
            "dtype: int64\n"
          ]
        }
      ]
    },
    {
      "cell_type": "code",
      "source": [
        "# Remove rows with any missing values\n",
        "cleaned_df = df.dropna()\n",
        "print(\"\\nDataFrame after removing rows with missing values:\")\n",
        "print(cleaned_df)"
      ],
      "metadata": {
        "colab": {
          "base_uri": "https://localhost:8080/"
        },
        "id": "8UH69HbuqM1s",
        "outputId": "b7b43828-c82c-415c-81f2-8c89c0c1f200"
      },
      "execution_count": 5,
      "outputs": [
        {
          "output_type": "stream",
          "name": "stdout",
          "text": [
            "\n",
            "DataFrame after removing rows with missing values:\n",
            "    Observation  Y-Kappa  ChipRate  BF-CMratio  BlowFlow  ChipLevel4   \\\n",
            "1      31-01:00    27.60    16.810      79.022  1328.360      341.327   \n",
            "3      31-03:00    23.60    16.478      81.011  1334.877      213.527   \n",
            "5       1-08:00    14.23    15.350      85.518  1171.604      198.538   \n",
            "7      31-06:00    22.65    14.100      91.887  1307.852      288.989   \n",
            "9      31-08:00    24.70    13.850      96.208  1334.892      362.511   \n",
            "..          ...      ...       ...         ...       ...          ...   \n",
            "312    31-10:00    24.40    14.117      85.998  1330.104      394.234   \n",
            "317     4-16:00    17.80    16.625      78.367  1276.082      202.744   \n",
            "319    10-16:00    23.75    12.667      93.450  1178.252      276.955   \n",
            "320     9-19:00    19.80    12.558      94.352  1184.119      297.071   \n",
            "322     9-21:00    24.32    13.083      88.910  1192.879      318.006   \n",
            "\n",
            "     T-upperExt-2   T-lowerExt-2    UCZAA  WhiteFlow-4   ...  SteamFlow-4   \\\n",
            "1          351.050         329.067  1.549       537.201  ...        60.012   \n",
            "3          350.938         331.142  1.604       623.362  ...        68.496   \n",
            "5          344.014         325.195  1.436       628.245  ...        65.225   \n",
            "7          352.321         331.162  1.468       625.549  ...        71.298   \n",
            "9          352.372         327.358  1.515       553.172  ...        64.249   \n",
            "..             ...             ...    ...           ...  ...           ...   \n",
            "312        348.089         319.027  1.429       540.558  ...        62.179   \n",
            "317        360.127         329.266  1.488       698.486  ...        75.296   \n",
            "319        347.286         310.970  1.523       513.956  ...        61.141   \n",
            "320        399.135         319.576  1.451       570.058  ...        67.667   \n",
            "322        364.081         308.559  1.523       504.852  ...        61.054   \n",
            "\n",
            "     Lower-HeatT-3  Upper-HeatT-3   ChipMass-4   WeakLiquorF   BlackFlow-2   \\\n",
            "1          330.823         304.879      163.202       665.975      1297.317   \n",
            "3          328.875         302.254      181.487       767.853      1324.461   \n",
            "5          322.103         298.517      165.814       826.243       907.641   \n",
            "7          329.662         301.539      179.886       837.178      1315.111   \n",
            "9          332.264         305.419      166.120       909.810      1318.725   \n",
            "..             ...             ...          ...           ...           ...   \n",
            "312        329.831         302.652      163.258       827.107      1312.372   \n",
            "317        321.658         297.088      180.438      1017.333      1052.785   \n",
            "319        330.117         304.006      148.174      1027.201      1357.271   \n",
            "320        330.848         304.616      165.178       906.962      1311.177   \n",
            "322        327.346         304.363      147.589       804.423      1320.225   \n",
            "\n",
            "     WeakWashF   SteamHeatF-3   T-Top-Chips-4   SulphidityL-4   \n",
            "1       241.182         46.603         251.406          29.110  \n",
            "3       239.478         54.846         250.312          29.020  \n",
            "5       595.875         52.807         249.580          30.340  \n",
            "7       234.047         53.805         249.971          29.220  \n",
            "9       180.375         48.842         251.121          29.210  \n",
            "..          ...            ...             ...             ...  \n",
            "312     132.163         49.446         251.406          29.292  \n",
            "317     433.089         54.675         251.747          30.320  \n",
            "319     381.643         45.264         252.947          30.860  \n",
            "320      25.494         50.528         252.092          30.700  \n",
            "322       0.000         43.725         253.176          31.130  \n",
            "\n",
            "[141 rows x 23 columns]\n"
          ]
        }
      ]
    },
    {
      "cell_type": "code",
      "source": [
        "# Fill missing values using forward fill\n",
        "filled_ffill_df = df.fillna(method='ffill')\n",
        "print(\"\\nDataFrame after filling missing values with forward fill:\")\n",
        "print(filled_ffill_df)\n",
        "\n"
      ],
      "metadata": {
        "colab": {
          "base_uri": "https://localhost:8080/"
        },
        "id": "JUCgkJCgqPga",
        "outputId": "e081dc69-2963-4f08-9170-dc47bf5e77a4"
      },
      "execution_count": 7,
      "outputs": [
        {
          "output_type": "stream",
          "name": "stdout",
          "text": [
            "\n",
            "DataFrame after filling missing values with forward fill:\n",
            "    Observation  Y-Kappa  ChipRate  BF-CMratio  BlowFlow  ChipLevel4   \\\n",
            "0      31-00:00    23.10    16.520     121.717  1177.607      169.805   \n",
            "1      31-01:00    27.60    16.810      79.022  1328.360      341.327   \n",
            "2      31-02:00    23.19    16.709      79.562  1329.407      239.161   \n",
            "3      31-03:00    23.60    16.478      81.011  1334.877      213.527   \n",
            "4      31-04:00    22.90    15.618      93.244  1334.168      243.131   \n",
            "..          ...      ...       ...         ...       ...          ...   \n",
            "319    10-16:00    23.75    12.667      93.450  1178.252      276.955   \n",
            "320     9-19:00    19.80    12.558      94.352  1184.119      297.071   \n",
            "321     9-20:00    23.01    12.550      90.842  1188.517      289.826   \n",
            "322     9-21:00    24.32    13.083      88.910  1192.879      318.006   \n",
            "323     9-22:00    25.75    13.417      85.451  1186.342      248.312   \n",
            "\n",
            "     T-upperExt-2   T-lowerExt-2    UCZAA  WhiteFlow-4   ...  SteamFlow-4   \\\n",
            "0          358.282         329.545  1.443       599.253  ...        67.122   \n",
            "1          351.050         329.067  1.549       537.201  ...        60.012   \n",
            "2          350.022         329.260  1.600       549.611  ...        61.304   \n",
            "3          350.938         331.142  1.604       623.362  ...        68.496   \n",
            "4          351.640         332.709  1.604       638.672  ...        70.022   \n",
            "..             ...             ...    ...           ...  ...           ...   \n",
            "319        347.286         310.970  1.523       513.956  ...        61.141   \n",
            "320        399.135         319.576  1.451       570.058  ...        67.667   \n",
            "321        373.633         314.591  1.457       549.306  ...        66.446   \n",
            "322        364.081         308.559  1.523       504.852  ...        61.054   \n",
            "323        356.289         310.482  1.474       497.375  ...        58.247   \n",
            "\n",
            "     Lower-HeatT-3  Upper-HeatT-3   ChipMass-4   WeakLiquorF   BlackFlow-2   \\\n",
            "0          329.432         303.099      175.964      1127.197      1319.039   \n",
            "1          330.823         304.879      163.202       665.975      1297.317   \n",
            "2          329.140         303.383      164.013       677.534      1327.072   \n",
            "3          328.875         302.254      181.487       767.853      1324.461   \n",
            "4          328.352         300.954      183.929       888.448      1343.424   \n",
            "..             ...             ...          ...           ...           ...   \n",
            "319        330.117         304.006      148.174      1027.201      1357.271   \n",
            "320        330.848         304.616      165.178       906.962      1311.177   \n",
            "321        330.226         304.686      160.841       887.125      1319.226   \n",
            "322        327.346         304.363      147.589       804.423      1320.225   \n",
            "323        328.092         304.093      144.218       828.328      1320.848   \n",
            "\n",
            "     WeakWashF   SteamHeatF-3   T-Top-Chips-4   SulphidityL-4   \n",
            "0       257.325         54.612         252.077             NaN  \n",
            "1       241.182         46.603         251.406           29.11  \n",
            "2       237.272         51.795         251.335           29.11  \n",
            "3       239.478         54.846         250.312           29.02  \n",
            "4       215.372         54.186         249.916           29.01  \n",
            "..          ...            ...             ...             ...  \n",
            "319     381.643         45.264         252.947           30.86  \n",
            "320      25.494         50.528         252.092           30.70  \n",
            "321       0.638         45.549         252.438           30.70  \n",
            "322       0.000         43.725         253.176           31.13  \n",
            "323       1.276         43.840         253.216           31.13  \n",
            "\n",
            "[324 rows x 23 columns]\n"
          ]
        }
      ]
    },
    {
      "cell_type": "code",
      "source": [
        "# Fill missing values using backward fill\n",
        "filled_bfill_df = df.fillna(method='bfill')\n",
        "print(\"\\nDataFrame after filling missing values with backward fill:\")\n",
        "print(filled_bfill_df)"
      ],
      "metadata": {
        "colab": {
          "base_uri": "https://localhost:8080/"
        },
        "id": "acCUOejhq-fK",
        "outputId": "18135673-8c73-4c71-950c-9545701a4c01"
      },
      "execution_count": 8,
      "outputs": [
        {
          "output_type": "stream",
          "name": "stdout",
          "text": [
            "\n",
            "DataFrame after filling missing values with backward fill:\n",
            "    Observation  Y-Kappa  ChipRate  BF-CMratio  BlowFlow  ChipLevel4   \\\n",
            "0      31-00:00    23.10    16.520     121.717  1177.607      169.805   \n",
            "1      31-01:00    27.60    16.810      79.022  1328.360      341.327   \n",
            "2      31-02:00    23.19    16.709      79.562  1329.407      239.161   \n",
            "3      31-03:00    23.60    16.478      81.011  1334.877      213.527   \n",
            "4      31-04:00    22.90    15.618      93.244  1334.168      243.131   \n",
            "..          ...      ...       ...         ...       ...          ...   \n",
            "319    10-16:00    23.75    12.667      93.450  1178.252      276.955   \n",
            "320     9-19:00    19.80    12.558      94.352  1184.119      297.071   \n",
            "321     9-20:00    23.01    12.550      90.842  1188.517      289.826   \n",
            "322     9-21:00    24.32    13.083      88.910  1192.879      318.006   \n",
            "323     9-22:00    25.75    13.417      85.451  1186.342      248.312   \n",
            "\n",
            "     T-upperExt-2   T-lowerExt-2    UCZAA  WhiteFlow-4   ...  SteamFlow-4   \\\n",
            "0          358.282         329.545  1.443       599.253  ...        67.122   \n",
            "1          351.050         329.067  1.549       537.201  ...        60.012   \n",
            "2          350.022         329.260  1.600       549.611  ...        61.304   \n",
            "3          350.938         331.142  1.604       623.362  ...        68.496   \n",
            "4          351.640         332.709  1.436       638.672  ...        70.022   \n",
            "..             ...             ...    ...           ...  ...           ...   \n",
            "319        347.286         310.970  1.523       513.956  ...        61.141   \n",
            "320        399.135         319.576  1.451       570.058  ...        67.667   \n",
            "321        373.633         314.591  1.457       549.306  ...        66.446   \n",
            "322        364.081         308.559  1.523       504.852  ...        61.054   \n",
            "323        356.289         310.482  1.474       497.375  ...        58.247   \n",
            "\n",
            "     Lower-HeatT-3  Upper-HeatT-3   ChipMass-4   WeakLiquorF   BlackFlow-2   \\\n",
            "0          329.432         303.099      175.964      1127.197      1319.039   \n",
            "1          330.823         304.879      163.202       665.975      1297.317   \n",
            "2          329.140         303.383      164.013       677.534      1327.072   \n",
            "3          328.875         302.254      181.487       767.853      1324.461   \n",
            "4          328.352         300.954      183.929       888.448      1343.424   \n",
            "..             ...             ...          ...           ...           ...   \n",
            "319        330.117         304.006      148.174      1027.201      1357.271   \n",
            "320        330.848         304.616      165.178       906.962      1311.177   \n",
            "321        330.226         304.686      160.841       887.125      1319.226   \n",
            "322        327.346         304.363      147.589       804.423      1320.225   \n",
            "323        328.092         304.093      144.218       828.328      1320.848   \n",
            "\n",
            "     WeakWashF   SteamHeatF-3   T-Top-Chips-4   SulphidityL-4   \n",
            "0       257.325         54.612         252.077           29.11  \n",
            "1       241.182         46.603         251.406           29.11  \n",
            "2       237.272         51.795         251.335           29.02  \n",
            "3       239.478         54.846         250.312           29.02  \n",
            "4       215.372         54.186         249.916           29.01  \n",
            "..          ...            ...             ...             ...  \n",
            "319     381.643         45.264         252.947           30.86  \n",
            "320      25.494         50.528         252.092           30.70  \n",
            "321       0.638         45.549         252.438           31.13  \n",
            "322       0.000         43.725         253.176           31.13  \n",
            "323       1.276         43.840         253.216             NaN  \n",
            "\n",
            "[324 rows x 23 columns]\n"
          ]
        }
      ]
    },
    {
      "cell_type": "code",
      "source": [
        "# Provide summary statistics for numerical columns\n",
        "summary_stats = df.describe()\n",
        "print(\"\\nSummary statistics:\")\n",
        "print(summary_stats)"
      ],
      "metadata": {
        "colab": {
          "base_uri": "https://localhost:8080/"
        },
        "id": "otsbk18ZqPby",
        "outputId": "8b8e680c-0d71-4a14-d0f6-ca08ab118764"
      },
      "execution_count": 9,
      "outputs": [
        {
          "output_type": "stream",
          "name": "stdout",
          "text": [
            "\n",
            "Summary statistics:\n",
            "          Y-Kappa    ChipRate  BF-CMratio     BlowFlow  ChipLevel4   \\\n",
            "count  324.000000  319.000000  307.000000   308.000000   323.000000   \n",
            "mean    20.635370   14.347937   87.464456  1237.837614   258.164483   \n",
            "std      3.070036    1.499095    7.995012   100.593735    87.987452   \n",
            "min     12.170000    9.983000   68.645000     0.000000     0.000000   \n",
            "25%     18.382500   13.358000   81.823000  1193.215250   213.527000   \n",
            "50%     20.845000   14.308000   86.739000  1273.138500   271.792000   \n",
            "75%     23.032500   15.517000   92.372000  1289.196000   321.680000   \n",
            "max     27.600000   16.958000  121.717000  1351.240000   419.014000   \n",
            "\n",
            "       T-upperExt-2   T-lowerExt-2         UCZAA  WhiteFlow-4   AAWhiteSt-4   \\\n",
            "count     322.000000      322.000000  299.000000    323.000000    173.000000   \n",
            "mean      356.904295      324.020180    1.492010    591.732260      6.140410   \n",
            "std         9.209290        7.621402    0.105923     67.016351      0.081609   \n",
            "min       339.168000      284.633000    1.182000    405.111000      5.890000   \n",
            "25%       350.241250      321.420000    1.431500    540.989500      6.089000   \n",
            "50%       356.843000      325.669000    1.498000    592.895000      6.135000   \n",
            "75%       362.242250      329.175000    1.560500    639.480500      6.199000   \n",
            "max       399.135000      337.012000    1.747000    731.394000      6.340000   \n",
            "\n",
            "       ...  SteamFlow-4   Lower-HeatT-3  Upper-HeatT-3   ChipMass-4   \\\n",
            "count  ...    323.000000     322.000000      322.000000   323.000000   \n",
            "mean   ...     66.668285     325.567820      300.525699   162.222322   \n",
            "std    ...      5.708587       4.609862        4.568484    14.160688   \n",
            "min    ...     48.568000     318.051000      293.312000   113.922000   \n",
            "25%    ...     62.518000     321.385500      296.513250   153.032500   \n",
            "50%    ...     67.429000     324.741000      299.126000   163.690000   \n",
            "75%    ...     71.522000     329.845250      304.244750   172.555000   \n",
            "max    ...     76.147000     333.854000      311.146000   189.268000   \n",
            "\n",
            "       WeakLiquorF   BlackFlow-2   WeakWashF   SteamHeatF-3   T-Top-Chips-4   \\\n",
            "count    323.000000    322.000000  323.000000     322.000000      323.000000   \n",
            "mean     873.828941   1175.917016  263.543068      49.696907      251.240087   \n",
            "std      122.073521    149.334010  163.666942       4.551909        1.283432   \n",
            "min      486.938000    838.948000    0.000000      35.510000      248.359000   \n",
            "25%      792.019500   1044.817500  134.649000      46.389750      250.312000   \n",
            "50%      865.254000   1150.221500  269.193000      50.277000      251.380000   \n",
            "75%      965.286500   1319.021250  405.563000      53.294250      252.323500   \n",
            "max     1226.277000   1395.767000  715.715000      63.332000      254.122000   \n",
            "\n",
            "       SulphidityL-4   \n",
            "count      173.000000  \n",
            "mean        30.411671  \n",
            "std          0.701317  \n",
            "min         29.010000  \n",
            "25%         29.970000  \n",
            "50%         30.370000  \n",
            "75%         30.820000  \n",
            "max         32.840000  \n",
            "\n",
            "[8 rows x 22 columns]\n"
          ]
        }
      ]
    },
    {
      "cell_type": "code",
      "source": [
        "# Calculate the mean of specific columns (example for 'ChipRate' and 'BlowFlow')\n",
        "chip_rate_mean = df['ChipRate'].mean()\n",
        "blow_flow_mean = df['BlowFlow'].mean()\n",
        "print(f'\\nMean ChipRate: {chip_rate_mean}')\n",
        "print(f'Mean BlowFlow: {blow_flow_mean}')"
      ],
      "metadata": {
        "colab": {
          "base_uri": "https://localhost:8080/"
        },
        "id": "JDE5ZyWDqVbx",
        "outputId": "9ee87115-72e6-4c6e-8a6d-7880e125fd80"
      },
      "execution_count": 10,
      "outputs": [
        {
          "output_type": "stream",
          "name": "stdout",
          "text": [
            "\n",
            "Mean ChipRate: 14.347937304075236\n",
            "Mean BlowFlow: 1237.8376136363638\n"
          ]
        }
      ]
    },
    {
      "cell_type": "code",
      "source": [
        "# Filter rows where 'ChipRate' is greater than 50\n",
        "filtered_df = df[df['ChipRate'] > 50]\n",
        "print(\"\\nFiltered DataFrame (ChipRate > 50):\")\n",
        "print(filtered_df)"
      ],
      "metadata": {
        "colab": {
          "base_uri": "https://localhost:8080/"
        },
        "id": "lJGeS3QzqYLY",
        "outputId": "1722d834-1965-465b-c2fe-2b92ee77d117"
      },
      "execution_count": 11,
      "outputs": [
        {
          "output_type": "stream",
          "name": "stdout",
          "text": [
            "\n",
            "Filtered DataFrame (ChipRate > 50):\n",
            "Empty DataFrame\n",
            "Columns: [Observation, Y-Kappa, ChipRate, BF-CMratio, BlowFlow, ChipLevel4 , T-upperExt-2 , T-lowerExt-2  , UCZAA, WhiteFlow-4 , AAWhiteSt-4 , AA-Wood-4  , ChipMoisture-4 , SteamFlow-4 , Lower-HeatT-3, Upper-HeatT-3 , ChipMass-4 , WeakLiquorF , BlackFlow-2 , WeakWashF , SteamHeatF-3 , T-Top-Chips-4 , SulphidityL-4 ]\n",
            "Index: []\n",
            "\n",
            "[0 rows x 23 columns]\n"
          ]
        }
      ]
    }
  ]
}