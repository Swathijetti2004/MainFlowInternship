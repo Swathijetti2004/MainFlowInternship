{
 "cells": [
  {
   "cell_type": "markdown",
   "id": "9a7c34f5-7a26-42d2-98d0-9750f6fd09d0",
   "metadata": {},
   "source": [
    "List Demo"
   ]
  },
  {
   "cell_type": "code",
   "execution_count": 2,
   "id": "5a31d363-dee9-47c6-a7eb-453590ade1f1",
   "metadata": {},
   "outputs": [
    {
     "name": "stdout",
     "output_type": "stream",
     "text": [
      "Empty List: []\n"
     ]
    }
   ],
   "source": [
    "# Creating an empty list\n",
    "l = []\n",
    "print(\"Empty List:\", l)"
   ]
  },
  {
   "cell_type": "code",
   "execution_count": 3,
   "id": "96f793af-2115-4fea-a1a1-0633d724134d",
   "metadata": {},
   "outputs": [
    {
     "name": "stdout",
     "output_type": "stream",
     "text": [
      "List after appending elements: [1, 2, 3]\n"
     ]
    }
   ],
   "source": [
    "# Appending elements to the list\n",
    "l.append(1)\n",
    "l.append(2)\n",
    "l.append(3)\n",
    "print(\"List after appending elements:\", l)"
   ]
  },
  {
   "cell_type": "code",
   "execution_count": 4,
   "id": "465ac640-d735-4a9c-bb24-9bb20face33d",
   "metadata": {},
   "outputs": [
    {
     "name": "stdout",
     "output_type": "stream",
     "text": [
      "List after extending with another list: [1, 2, 3, 4, 5, 6]\n"
     ]
    }
   ],
   "source": [
    "# Extending the list with another list\n",
    "extension = [4, 5, 6]\n",
    "l.extend(extension)\n",
    "print(\"List after extending with another list:\", l)"
   ]
  },
  {
   "cell_type": "code",
   "execution_count": 5,
   "id": "1500ad97-b8ba-493b-bef4-db16fd5bf6b5",
   "metadata": {},
   "outputs": [
    {
     "name": "stdout",
     "output_type": "stream",
     "text": [
      "List after inserting an element: [1, 2, 10, 3, 4, 5, 6]\n"
     ]
    }
   ],
   "source": [
    "# Inserting an element at a specific index\n",
    "l.insert(2, 10)\n",
    "print(\"List after inserting an element:\", l)"
   ]
  },
  {
   "cell_type": "code",
   "execution_count": 6,
   "id": "e04b6c13-95f5-45b2-9a34-451cfb50b440",
   "metadata": {},
   "outputs": [
    {
     "name": "stdout",
     "output_type": "stream",
     "text": [
      "List after removing an element: [1, 2, 10, 4, 5, 6]\n"
     ]
    }
   ],
   "source": [
    "# Removing an element from the list\n",
    "l.remove(3)\n",
    "print(\"List after removing an element:\", l)"
   ]
  },
  {
   "cell_type": "code",
   "execution_count": 7,
   "id": "64ab687c-ca5f-4134-beb6-8fbf972c79c1",
   "metadata": {},
   "outputs": [
    {
     "name": "stdout",
     "output_type": "stream",
     "text": [
      "Popped element: 2\n",
      "List after popping an element: [1, 10, 4, 5, 6]\n"
     ]
    }
   ],
   "source": [
    "# Pop an element from a specific index\n",
    "popped_element = l.pop(1)\n",
    "print(\"Popped element:\", popped_element)\n",
    "print(\"List after popping an element:\", l)"
   ]
  },
  {
   "cell_type": "code",
   "execution_count": 9,
   "id": "4429e8fd-eead-4cb8-b43b-cf65a42cd7b2",
   "metadata": {},
   "outputs": [
    {
     "name": "stdout",
     "output_type": "stream",
     "text": [
      "List after reversing: [1, 10, 4, 5, 6]\n"
     ]
    }
   ],
   "source": [
    "# Reversing the list\n",
    "l.reverse()\n",
    "print(\"List after reversing:\", l)"
   ]
  },
  {
   "cell_type": "code",
   "execution_count": 10,
   "id": "d686f988-4f55-4eea-97ad-814cb7143966",
   "metadata": {},
   "outputs": [
    {
     "name": "stdout",
     "output_type": "stream",
     "text": [
      "List after sorting: [1, 4, 5, 6, 10]\n"
     ]
    }
   ],
   "source": [
    "# Sorting the list\n",
    "l.sort()\n",
    "print(\"List after sorting:\", l)"
   ]
  },
  {
   "cell_type": "code",
   "execution_count": 11,
   "id": "ca375b13-e881-4a31-bc4c-e76bb12b0647",
   "metadata": {},
   "outputs": [
    {
     "name": "stdout",
     "output_type": "stream",
     "text": [
      "List after clearing: []\n"
     ]
    }
   ],
   "source": [
    "# Clearing the list\n",
    "l.clear()\n",
    "print(\"List after clearing:\", l)"
   ]
  },
  {
   "cell_type": "markdown",
   "id": "626de206-dd09-4c0d-a0a7-0f73597cb9e4",
   "metadata": {},
   "source": [
    "Dictinary Demo"
   ]
  },
  {
   "cell_type": "code",
   "execution_count": 12,
   "id": "0155d286-fe33-4dcb-a894-9225f8a6592a",
   "metadata": {},
   "outputs": [
    {
     "name": "stdout",
     "output_type": "stream",
     "text": [
      "Dictionary: {'a': 1, 'b': 2, 'c': 3}\n"
     ]
    }
   ],
   "source": [
    "# Creating a dictionary\n",
    "d = {'a': 1, 'b': 2, 'c': 3}\n",
    "print(\"Dictionary:\", d)"
   ]
  },
  {
   "cell_type": "code",
   "execution_count": 13,
   "id": "9154869e-d918-4741-bbb2-12b81ceb82c0",
   "metadata": {},
   "outputs": [
    {
     "name": "stdout",
     "output_type": "stream",
     "text": [
      "Dictionary after adding a key-value pair: {'a': 1, 'b': 2, 'c': 3, 'd': 4}\n"
     ]
    }
   ],
   "source": [
    "# Adding a key-value pair to the dictionary\n",
    "d['d'] = 4\n",
    "print(\"Dictionary after adding a key-value pair:\", d)"
   ]
  },
  {
   "cell_type": "code",
   "execution_count": 14,
   "id": "fd3ebfcc-fa36-45da-9a07-5c93e926998b",
   "metadata": {},
   "outputs": [
    {
     "name": "stdout",
     "output_type": "stream",
     "text": [
      "Dictionary after modifying a value: {'a': 1, 'b': 2, 'c': 30, 'd': 4}\n"
     ]
    }
   ],
   "source": [
    "# Modifying a value in the dictionary\n",
    "d['c'] = 30\n",
    "print(\"Dictionary after modifying a value:\", d)"
   ]
  },
  {
   "cell_type": "code",
   "execution_count": 15,
   "id": "c3c81fec-a9d1-458b-b4e8-6cfd91f4679d",
   "metadata": {},
   "outputs": [
    {
     "name": "stdout",
     "output_type": "stream",
     "text": [
      "Removed value: 2\n",
      "Dictionary after removing a key-value pair: {'a': 1, 'c': 30, 'd': 4}\n"
     ]
    }
   ],
   "source": [
    "# Removing a key-value pair from the dictionary\n",
    "removed_value = d.pop('b')\n",
    "print(\"Removed value:\", removed_value)\n",
    "print(\"Dictionary after removing a key-value pair:\", d)"
   ]
  },
  {
   "cell_type": "code",
   "execution_count": 16,
   "id": "744d0dfd-24bc-4715-a3db-594f373c4f20",
   "metadata": {},
   "outputs": [
    {
     "name": "stdout",
     "output_type": "stream",
     "text": [
      "Value associated with key 'a': 1\n"
     ]
    }
   ],
   "source": [
    "# Accessing a value using its key\n",
    "value_of_a = d['a']\n",
    "print(\"Value associated with key 'a':\", value_of_a)"
   ]
  },
  {
   "cell_type": "code",
   "execution_count": 17,
   "id": "35a5c714-ccd2-4f8a-8e64-d7301d396738",
   "metadata": {},
   "outputs": [
    {
     "name": "stdout",
     "output_type": "stream",
     "text": [
      "Is 'b' present in the dictionary? False\n"
     ]
    }
   ],
   "source": [
    "# Checking if a key exists in the dictionary\n",
    "key_exists = 'b' in d\n",
    "print(\"Is 'b' present in the dictionary?\", key_exists)"
   ]
  },
  {
   "cell_type": "code",
   "execution_count": 18,
   "id": "31449376-67cd-4fbb-827f-99dc1ea0c5ae",
   "metadata": {},
   "outputs": [
    {
     "name": "stdout",
     "output_type": "stream",
     "text": [
      "Keys: ['a', 'c', 'd']\n",
      "Values: [1, 30, 4]\n"
     ]
    }
   ],
   "source": [
    "# Getting the list of keys and values in the dictionary\n",
    "keys = list(d.keys())\n",
    "values = list(d.values())\n",
    "print(\"Keys:\", keys)\n",
    "print(\"Values:\", values)"
   ]
  },
  {
   "cell_type": "code",
   "execution_count": 19,
   "id": "d1b4cc58-0967-4ae3-be5f-c3a0901499b1",
   "metadata": {},
   "outputs": [
    {
     "name": "stdout",
     "output_type": "stream",
     "text": [
      "Dictionary after clearing all elements: {}\n"
     ]
    }
   ],
   "source": [
    "# Clearing all elements from the dictionary\n",
    "d.clear()\n",
    "print(\"Dictionary after clearing all elements:\", d)"
   ]
  },
  {
   "cell_type": "markdown",
   "id": "5c7f1c8e-c5e4-4599-ae60-f79e55cbaa96",
   "metadata": {},
   "source": [
    "Sets Demo"
   ]
  },
  {
   "cell_type": "code",
   "execution_count": 20,
   "id": "05d5fabd-f9c2-4186-a99a-8dc5befed67f",
   "metadata": {},
   "outputs": [
    {
     "name": "stdout",
     "output_type": "stream",
     "text": [
      "Set with elements of different data types: {1, (4, 5), 3.14, 'apple'}\n"
     ]
    }
   ],
   "source": [
    "# Creating Set\n",
    "s = {1, 'apple', 3.14, (4, 5)}\n",
    "print(\"Set with elements of different data types:\", s)"
   ]
  },
  {
   "cell_type": "code",
   "execution_count": 21,
   "id": "a1893f44-3042-4a9d-be50-98119ff4f18f",
   "metadata": {},
   "outputs": [
    {
     "name": "stdout",
     "output_type": "stream",
     "text": [
      "Set after adding an element: {1, (4, 5), 3.14, 'apple'}\n"
     ]
    }
   ],
   "source": [
    "# Adding an element to the set\n",
    "s.add(True)\n",
    "print(\"Set after adding an element:\", s)"
   ]
  },
  {
   "cell_type": "code",
   "execution_count": 22,
   "id": "73189ad8-f208-4485-ab73-53ab1ad99dce",
   "metadata": {},
   "outputs": [
    {
     "name": "stdout",
     "output_type": "stream",
     "text": [
      "Set after removing an element: {1, (4, 5), 3.14}\n"
     ]
    }
   ],
   "source": [
    "# Removing an element from the set\n",
    "s.remove('apple')\n",
    "print(\"Set after removing an element:\", s)"
   ]
  },
  {
   "cell_type": "code",
   "execution_count": 23,
   "id": "ff38e225-c112-416c-b808-37412bda3fb8",
   "metadata": {},
   "outputs": [
    {
     "name": "stdout",
     "output_type": "stream",
     "text": [
      "Is 'apple' present in the set? False\n"
     ]
    }
   ],
   "source": [
    "# Checking if an element is present in the set\n",
    "element_present = 'apple' in s\n",
    "print(\"Is 'apple' present in the set?\", element_present)"
   ]
  },
  {
   "cell_type": "code",
   "execution_count": 24,
   "id": "28da3565-bbf2-4e7c-9ddb-12afc6fec41d",
   "metadata": {},
   "outputs": [
    {
     "name": "stdout",
     "output_type": "stream",
     "text": [
      "Length of the set: 3\n"
     ]
    }
   ],
   "source": [
    "# Finding the length of the set\n",
    "set_length = len(s)\n",
    "print(\"Length of the set:\", set_length)"
   ]
  },
  {
   "cell_type": "code",
   "execution_count": 25,
   "id": "0ed55311-ba35-4fa8-9482-be5a3b0f1b44",
   "metadata": {},
   "outputs": [
    {
     "name": "stdout",
     "output_type": "stream",
     "text": [
      "Copy of the set: {1, (4, 5), 3.14}\n"
     ]
    }
   ],
   "source": [
    "# Copying the set\n",
    "s_copy = s.copy()\n",
    "print(\"Copy of the set:\", s_copy)"
   ]
  },
  {
   "cell_type": "code",
   "execution_count": 26,
   "id": "a1c9060a-5288-41cd-82b4-663577adf102",
   "metadata": {},
   "outputs": [
    {
     "name": "stdout",
     "output_type": "stream",
     "text": [
      "Set after clearing all elements: set()\n"
     ]
    }
   ],
   "source": [
    "# Clearing all elements from the set\n",
    "s.clear()\n",
    "print(\"Set after clearing all elements:\", s)"
   ]
  }
 ],
 "metadata": {
  "kernelspec": {
   "display_name": "Python 3 (ipykernel)",
   "language": "python",
   "name": "python3"
  },
  "language_info": {
   "codemirror_mode": {
    "name": "ipython",
    "version": 3
   },
   "file_extension": ".py",
   "mimetype": "text/x-python",
   "name": "python",
   "nbconvert_exporter": "python",
   "pygments_lexer": "ipython3",
   "version": "3.11.7"
  }
 },
 "nbformat": 4,
 "nbformat_minor": 5
}
